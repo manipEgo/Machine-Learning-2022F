{
 "cells": [
  {
   "cell_type": "markdown",
   "metadata": {
    "scrolled": true
   },
   "source": [
    "# LAB06 Assigment\n",
    "\n",
    "\n"
   ]
  },
  {
   "cell_type": "markdown",
   "metadata": {},
   "source": [
    "### Exercise 1 Linear Discriminant Analysis from Scratch using numpy (50 points )\n",
    "- <font size=4> Complete the missing code in the LDA class below<font>"
   ]
  },
  {
   "cell_type": "code",
   "execution_count": null,
   "metadata": {},
   "outputs": [],
   "source": [
    "import numpy as np\n",
    "import matplotlib.pyplot as plt\n",
    "\n",
    "\n",
    "class LDA:\n",
    "    #n_components:Number of components (<= min(n_classes - 1, n_features)) for dimensionality reduction.\n",
    "    def __init__(self, n_components=None):\n",
    "        \n",
    "        self.n_components = n_components\n",
    "        self.eigenvalues = None\n",
    "        self.eigenvectors = None\n",
    "\n",
    "    def fit(self, X, y):\n",
    "        if self.n_components is None or self.n_components > X.shape[1]:\n",
    "            n_components = X.shape[1]\n",
    "        else:\n",
    "            n_components = self.n_components\n",
    "        \n",
    "        n_samples, n_features = np.shape(X)\n",
    "        labels, y_indices = np.unique(y, return_index=True)\n",
    "  \n",
    "        # Within class scatter matrix\n",
    "        # Complete code for calculating S_W\n",
    "        ########### Write Your Code Here ###########\n",
    "        self.covMatrix = [np.cov(X[y == group].T) for idx, group in enumerate(labels)]\n",
    "        S_W = sum(self.covMatrix) / len(self.covMatrix)\n",
    "\n",
    "        # Between class scatter matrix\n",
    "        # Complete code for calculating S_B\n",
    "        ########### Write Your Code Here ###########\n",
    "        priors = np.bincount(y) / n_samples\n",
    "        means = np.zeros((len(labels), n_features))\n",
    "        X_means = means / np.expand_dims(np.bincount(y), 1)\n",
    "        X_bar = np.dot(np.expand_dims(priors, axis=0), X_means)\n",
    "        S_B = sum([sum(y == group) * np.dot((X_means[idx, None] - X_bar).T, (X_means[idx,None] - X_bar)) \\\n",
    "                  for idx, group in enumerate(labels)]) / (n_samples - 1)\n",
    "      \n",
    "        # Determine SW^-1 * SB by calculating inverse of SW\n",
    "        ########### Write Your Code Here ###########\n",
    "        U,S,V = np.linalg.svd(S_W)\n",
    "        Sn = np.linalg.inv(np.diag(S))\n",
    "        S_Wn = np.dot(np.dot(V.T,Sn),U.T)\n",
    "        S_WnS_B = np.dot(S_Wn,S_B)\n",
    "\n",
    "        # Get eigenvalues and eigenvectors of SW^-1 * SB\n",
    "        ########### Write Your Code Here ###########\n",
    "        eigenvalues,eigenvectors = np.linalg.eig(S_WnS_B)\n",
    "        eigenvalues = np.real(eigenvalues)\n",
    "        eigenvectors = np.real(eigenvectors)\n",
    "\n",
    "        # Sort the eigenvalues and corresponding eigenvectors from largest\n",
    "        # to smallest eigenvalue and select the first n_components\n",
    "        idx = eigenvalues.argsort()[::-1]\n",
    "        eigenvalues = eigenvalues[idx][:n_components]\n",
    "        eigenvectors = eigenvectors[:, idx][:, :n_components]\n",
    "  \n",
    "        self.eigenvalues = eigenvalues\n",
    "        self.eigenvectors = eigenvectors\n",
    "  \n",
    "    def fit_transform(self, X):\n",
    "        ########### Write Your Code Here ###########\n",
    "        self.fit(X, None)\n",
    "        return self.transform(X)\n",
    "  \n",
    "    def transform(self, X):\n",
    "        ########### Write Your Code Here ###########\n",
    "        return np.dot(X, self.eigenvectors)"
   ]
  },
  {
   "cell_type": "markdown",
   "metadata": {},
   "source": [
    "- <font size=4> Dimensionality reduction visualization<font>"
   ]
  },
  {
   "cell_type": "code",
   "execution_count": null,
   "metadata": {},
   "outputs": [],
   "source": [
    "import matplotlib.pyplot as plt\n",
    "from mpl_toolkits.mplot3d import Axes3D\n",
    "from sklearn import datasets\n",
    "\n",
    "np.random.seed(5)\n",
    "\n",
    "\n",
    "iris = datasets.load_iris()\n",
    "X = iris.data\n",
    "y = iris.target\n",
    "pca = LDA(n_components=3)\n",
    "pca.fit(X, y)\n",
    "X = pca.transform(X)\n",
    "\n",
    "fig = plt.figure(1, figsize=(4, 3))\n",
    "ax = fig.add_subplot(111, projection=\"3d\", elev=48, azim=134)\n",
    "ax.set_position([0, 0, 0.95, 1])\n",
    "for name, label in [('Setosa', 0), ('Versicolour', 1), ('Virginica', 2)]:    \n",
    "    ax.text3D(\n",
    "        X[y == label, 0].mean(),\n",
    "        X[y == label, 1].mean(),\n",
    "        X[y == label, 2].mean() + 2,\n",
    "        name,\n",
    "        horizontalalignment=\"center\",\n",
    "        bbox=dict(alpha=0.5, edgecolor=\"w\", facecolor=\"w\"),\n",
    "    )\n",
    "# Reorder the labels to have colors matching the cluster results\n",
    "y = np.choose(y, [1, 2, 0]).astype(float)\n",
    "ax.scatter(X[:, 0], X[:, 1], X[:, 2], c=y, \n",
    "        edgecolor='k')\n",
    "\n",
    "ax.w_xaxis.set_ticklabels([])\n",
    "ax.w_yaxis.set_ticklabels([])\n",
    "ax.w_zaxis.set_ticklabels([])\n",
    "\n",
    "ax.set_xlabel(\"Petal width\")\n",
    "ax.set_ylabel(\"Sepal length\")\n",
    "ax.set_zlabel(\"Petal length\")\n",
    "# ax.set_title(\"Ground Truth\")\n",
    "ax.dist = 12\n",
    "\n",
    "plt.show()"
   ]
  },
  {
   "cell_type": "markdown",
   "metadata": {},
   "source": [
    "### Exercise 2 Recognize handwritten numbers with LDA (50 points ). \n",
    "\n",
    "Your task in this section is to recognize handwritten numbers, and you can use the linear discriminant analysis model from the Scikit-Learn library to fit, evaluate, and predict them.\n",
    "\n",
    "<font color='red' size=4>Note that your accuracy in this section will directly determine your score.</font>"
   ]
  },
  {
   "cell_type": "markdown",
   "metadata": {},
   "source": [
    "### Loading the MNIST Dataset\n"
   ]
  },
  {
   "cell_type": "code",
   "execution_count": 11,
   "metadata": {},
   "outputs": [],
   "source": [
    "########### Write Your Code Here ###########\n",
    "import struct\n",
    "import numpy as np\n",
    "\n",
    "\n",
    "labels_path = \"datasets/train-labels.idx1-ubyte\"\n",
    "images_path = \"datasets/train-images.idx3-ubyte\"\n",
    "with open(labels_path, 'rb') as lbpath:\n",
    "    magic, n = struct.unpack('>II',lbpath.read(8))\n",
    "    train_labels = np.fromfile(lbpath,dtype=np.uint8)\n",
    "with open(images_path, 'rb') as imgpath:\n",
    "    magic, num, rows, cols = struct.unpack('>IIII',imgpath.read(16))\n",
    "    train_images = np.fromfile(imgpath,dtype=np.uint8).reshape(len(train_labels), 784)\n",
    "\n",
    "labels_path = \"datasets/t10k-labels.idx1-ubyte\"\n",
    "images_path = \"datasets/t10k-images.idx3-ubyte\"\n",
    "with open(labels_path, 'rb') as lbpath:\n",
    "    magic, n = struct.unpack('>II',lbpath.read(8))\n",
    "    test_labels = np.fromfile(lbpath,dtype=np.uint8)\n",
    "with open(images_path, 'rb') as imgpath:\n",
    "    magic, num, rows, cols = struct.unpack('>IIII',imgpath.read(16))\n",
    "    test_images = np.fromfile(imgpath,dtype=np.uint8).reshape(len(test_labels), 784)\n",
    "############################################"
   ]
  },
  {
   "cell_type": "markdown",
   "metadata": {},
   "source": [
    "###  Visualization of MINIST"
   ]
  },
  {
   "cell_type": "code",
   "execution_count": 4,
   "metadata": {},
   "outputs": [
    {
     "name": "stdout",
     "output_type": "stream",
     "text": [
      "training data:\n",
      "label: 5\n",
      "image:\n"
     ]
    },
    {
     "data": {
      "image/png": "[encoded data removed]",
      "text/plain": [
       "<Figure size 432x288 with 1 Axes>"
      ]
     },
     "metadata": {},
     "output_type": "display_data"
    },
    {
     "name": "stdout",
     "output_type": "stream",
     "text": [
      "label: 0\n",
      "image:\n"
     ]
    },
    {
     "data": {
      "image/png": "[encoded data removed]",
      "text/plain": [
       "<Figure size 432x288 with 1 Axes>"
      ]
     },
     "metadata": {},
     "output_type": "display_data"
    },
    {
     "name": "stdout",
     "output_type": "stream",
     "text": [
      "label: 4\n",
      "image:\n"
     ]
    },
    {
     "data": {
      "image/png": "[encoded data removed]",
      "text/plain": [
       "<Figure size 432x288 with 1 Axes>"
      ]
     },
     "metadata": {},
     "output_type": "display_data"
    },
    {
     "name": "stdout",
     "output_type": "stream",
     "text": [
      "label: 1\n",
      "image:\n"
     ]
    },
    {
     "data": {
      "image/png": "[encoded data removed]",
      "text/plain": [
       "<Figure size 432x288 with 1 Axes>"
      ]
     },
     "metadata": {},
     "output_type": "display_data"
    },
    {
     "name": "stdout",
     "output_type": "stream",
     "text": [
      "label: 9\n",
      "image:\n"
     ]
    },
    {
     "data": {
      "image/png": "[encoded data removed]",
      "text/plain": [
       "<Figure size 432x288 with 1 Axes>"
      ]
     },
     "metadata": {},
     "output_type": "display_data"
    },
    {
     "name": "stdout",
     "output_type": "stream",
     "text": [
      "testing data:\n",
      "label: 7\n",
      "image:\n"
     ]
    },
    {
     "data": {
      "image/png": "[encoded data removed]",
      "text/plain": [
       "<Figure size 432x288 with 1 Axes>"
      ]
     },
     "metadata": {},
     "output_type": "display_data"
    },
    {
     "name": "stdout",
     "output_type": "stream",
     "text": [
      "label: 2\n",
      "image:\n"
     ]
    },
    {
     "data": {
      "image/png": "[encoded data removed]",
      "text/plain": [
       "<Figure size 432x288 with 1 Axes>"
      ]
     },
     "metadata": {},
     "output_type": "display_data"
    },
    {
     "name": "stdout",
     "output_type": "stream",
     "text": [
      "label: 1\n",
      "image:\n"
     ]
    },
    {
     "data": {
      "image/png": "[encoded data removed]",
      "text/plain": [
       "<Figure size 432x288 with 1 Axes>"
      ]
     },
     "metadata": {},
     "output_type": "display_data"
    },
    {
     "name": "stdout",
     "output_type": "stream",
     "text": [
      "label: 0\n",
      "image:\n"
     ]
    },
    {
     "data": {
      "image/png": "[encoded data removed]",
      "text/plain": [
       "<Figure size 432x288 with 1 Axes>"
      ]
     },
     "metadata": {},
     "output_type": "display_data"
    },
    {
     "name": "stdout",
     "output_type": "stream",
     "text": [
      "label: 4\n",
      "image:\n"
     ]
    },
    {
     "data": {
      "image/png": "[encoded data removed]",
      "text/plain": [
       "<Figure size 432x288 with 1 Axes>"
      ]
     },
     "metadata": {},
     "output_type": "display_data"
    }
   ],
   "source": [
    "# Visualize MINIST\n",
    "########### Write Your Code Here ###########\n",
    "from matplotlib import pyplot as plt\n",
    "\n",
    "\n",
    "print(\"training data:\")\n",
    "for i in range(5):\n",
    "    print(\"label:\", train_labels[i])\n",
    "    print(\"image:\")\n",
    "    plt.imshow(np.reshape(train_images[i], (28, 28)), cmap=\"gray\")\n",
    "    plt.show()\n",
    "\n",
    "print(\"testing data:\")\n",
    "for i in range(5):\n",
    "    print(\"label:\", test_labels[i])\n",
    "    print(\"image:\")\n",
    "    plt.imshow(np.reshape(test_images[i], (28, 28)), cmap=\"gray\")\n",
    "    plt.show()\n",
    "############################################"
   ]
  },
  {
   "cell_type": "markdown",
   "metadata": {},
   "source": [
    "### Fit  Model"
   ]
  },
  {
   "cell_type": "code",
   "execution_count": 23,
   "metadata": {},
   "outputs": [
    {
     "name": "stdout",
     "output_type": "stream",
     "text": [
      "good_thresholds: [0.05, 0.05, 0.05, 0.05, 0.05, 0.05, 0.05, 0.05, 0.05, 0.05, 0.05, 0.05, 0.05, 0.05, 0.05, 0.05, 0.05, 0.05, 0.05, 0.1, 0.1, 0.1, 0.1, 0.1, 0.1, 0.1, 0.1, 0.1, 0.1, 0.1, 0.1, 0.1, 0.1, 0.1, 0.1, 0.1, 0.1, 0.1, 0.15000000000000002, 0.15000000000000002, 0.15000000000000002, 0.15000000000000002, 0.15000000000000002, 0.15000000000000002, 0.15000000000000002, 0.15000000000000002, 0.15000000000000002, 0.15000000000000002, 0.15000000000000002, 0.15000000000000002, 0.15000000000000002, 0.15000000000000002, 0.15000000000000002, 0.15000000000000002, 0.15000000000000002, 0.15000000000000002, 0.15000000000000002, 0.2, 0.2, 0.2, 0.2, 0.2, 0.2, 0.2, 0.2, 0.2, 0.2, 0.2, 0.2, 0.2, 0.2, 0.2, 0.2, 0.2, 0.2, 0.2, 0.25, 0.25, 0.25, 0.25, 0.25, 0.25, 0.25, 0.25, 0.25, 0.25, 0.25, 0.25, 0.25, 0.25, 0.25, 0.25, 0.25, 0.25, 0.25, 0.3, 0.3, 0.3, 0.3, 0.3, 0.3, 0.3, 0.3, 0.3, 0.3, 0.3, 0.3, 0.3, 0.3, 0.3, 0.3, 0.3, 0.3, 0.3, 0.35000000000000003, 0.35000000000000003, 0.35000000000000003, 0.35000000000000003, 0.35000000000000003, 0.35000000000000003, 0.35000000000000003, 0.35000000000000003, 0.35000000000000003, 0.35000000000000003, 0.35000000000000003, 0.35000000000000003, 0.35000000000000003, 0.35000000000000003, 0.35000000000000003, 0.35000000000000003, 0.35000000000000003, 0.35000000000000003, 0.35000000000000003, 0.4, 0.4, 0.4, 0.4, 0.4, 0.4, 0.4, 0.4, 0.4, 0.4, 0.4, 0.4, 0.4, 0.4, 0.4, 0.4, 0.4, 0.4, 0.4, 0.45, 0.45, 0.45, 0.45, 0.45, 0.45, 0.45, 0.45, 0.45, 0.45, 0.45, 0.45, 0.45, 0.45, 0.45, 0.45, 0.45, 0.45, 0.45, 0.5, 0.5, 0.5, 0.5, 0.5, 0.5, 0.5, 0.5, 0.5, 0.5, 0.5, 0.5, 0.5, 0.5, 0.5, 0.5, 0.5, 0.5, 0.5, 0.55, 0.55, 0.55, 0.55, 0.55, 0.55, 0.55, 0.55, 0.55, 0.55, 0.55, 0.55, 0.55, 0.55, 0.55, 0.55, 0.55, 0.55, 0.55, 0.6000000000000001, 0.6000000000000001, 0.6000000000000001, 0.6000000000000001, 0.6000000000000001, 0.6000000000000001, 0.6000000000000001, 0.6000000000000001, 0.6000000000000001, 0.6000000000000001, 0.6000000000000001, 0.6000000000000001, 0.6000000000000001, 0.6000000000000001, 0.6000000000000001, 0.6000000000000001, 0.6000000000000001, 0.6000000000000001, 0.6500000000000001, 0.6500000000000001, 0.6500000000000001, 0.6500000000000001, 0.6500000000000001, 0.6500000000000001, 0.6500000000000001, 0.6500000000000001, 0.6500000000000001, 0.6500000000000001, 0.6500000000000001, 0.6500000000000001, 0.6500000000000001, 0.6500000000000001, 0.6500000000000001, 0.6500000000000001, 0.6500000000000001, 0.6500000000000001, 0.7000000000000001, 0.7000000000000001, 0.7000000000000001, 0.7000000000000001, 0.7000000000000001, 0.7000000000000001, 0.7000000000000001, 0.7000000000000001, 0.7000000000000001, 0.7000000000000001, 0.7000000000000001, 0.7000000000000001, 0.7000000000000001, 0.7000000000000001, 0.7000000000000001, 0.7000000000000001, 0.7000000000000001, 0.7000000000000001, 0.7500000000000001, 0.7500000000000001, 0.7500000000000001, 0.7500000000000001, 0.7500000000000001, 0.7500000000000001, 0.7500000000000001, 0.7500000000000001, 0.7500000000000001, 0.7500000000000001, 0.7500000000000001, 0.7500000000000001, 0.7500000000000001, 0.7500000000000001, 0.7500000000000001, 0.7500000000000001, 0.8, 0.8, 0.8, 0.8, 0.8, 0.8, 0.8, 0.8, 0.8, 0.8, 0.8, 0.8, 0.8]\n",
      "good_shrinkages: [0.05, 0.1, 0.15000000000000002, 0.2, 0.25, 0.3, 0.35000000000000003, 0.4, 0.45, 0.5, 0.55, 0.6000000000000001, 0.6500000000000001, 0.7000000000000001, 0.7500000000000001, 0.8, 0.8500000000000001, 0.9000000000000001, 0.9500000000000001, 0.05, 0.1, 0.15000000000000002, 0.2, 0.25, 0.3, 0.35000000000000003, 0.4, 0.45, 0.5, 0.55, 0.6000000000000001, 0.6500000000000001, 0.7000000000000001, 0.7500000000000001, 0.8, 0.8500000000000001, 0.9000000000000001, 0.9500000000000001, 0.05, 0.1, 0.15000000000000002, 0.2, 0.25, 0.3, 0.35000000000000003, 0.4, 0.45, 0.5, 0.55, 0.6000000000000001, 0.6500000000000001, 0.7000000000000001, 0.7500000000000001, 0.8, 0.8500000000000001, 0.9000000000000001, 0.9500000000000001, 0.05, 0.1, 0.15000000000000002, 0.2, 0.25, 0.3, 0.35000000000000003, 0.4, 0.45, 0.5, 0.55, 0.6000000000000001, 0.6500000000000001, 0.7000000000000001, 0.7500000000000001, 0.8, 0.8500000000000001, 0.9000000000000001, 0.9500000000000001, 0.05, 0.1, 0.15000000000000002, 0.2, 0.25, 0.3, 0.35000000000000003, 0.4, 0.45, 0.5, 0.55, 0.6000000000000001, 0.6500000000000001, 0.7000000000000001, 0.7500000000000001, 0.8, 0.8500000000000001, 0.9000000000000001, 0.9500000000000001, 0.05, 0.1, 0.15000000000000002, 0.2, 0.25, 0.3, 0.35000000000000003, 0.4, 0.45, 0.5, 0.55, 0.6000000000000001, 0.6500000000000001, 0.7000000000000001, 0.7500000000000001, 0.8, 0.8500000000000001, 0.9000000000000001, 0.9500000000000001, 0.05, 0.1, 0.15000000000000002, 0.2, 0.25, 0.3, 0.35000000000000003, 0.4, 0.45, 0.5, 0.55, 0.6000000000000001, 0.6500000000000001, 0.7000000000000001, 0.7500000000000001, 0.8, 0.8500000000000001, 0.9000000000000001, 0.9500000000000001, 0.05, 0.1, 0.15000000000000002, 0.2, 0.25, 0.3, 0.35000000000000003, 0.4, 0.45, 0.5, 0.55, 0.6000000000000001, 0.6500000000000001, 0.7000000000000001, 0.7500000000000001, 0.8, 0.8500000000000001, 0.9000000000000001, 0.9500000000000001, 0.05, 0.1, 0.15000000000000002, 0.2, 0.25, 0.3, 0.35000000000000003, 0.4, 0.45, 0.5, 0.55, 0.6000000000000001, 0.6500000000000001, 0.7000000000000001, 0.7500000000000001, 0.8, 0.8500000000000001, 0.9000000000000001, 0.9500000000000001, 0.05, 0.1, 0.15000000000000002, 0.2, 0.25, 0.3, 0.35000000000000003, 0.4, 0.45, 0.5, 0.55, 0.6000000000000001, 0.6500000000000001, 0.7000000000000001, 0.7500000000000001, 0.8, 0.8500000000000001, 0.9000000000000001, 0.9500000000000001, 0.05, 0.1, 0.15000000000000002, 0.2, 0.25, 0.3, 0.35000000000000003, 0.4, 0.45, 0.5, 0.55, 0.6000000000000001, 0.6500000000000001, 0.7000000000000001, 0.7500000000000001, 0.8, 0.8500000000000001, 0.9000000000000001, 0.9500000000000001, 0.05, 0.1, 0.15000000000000002, 0.2, 0.25, 0.3, 0.35000000000000003, 0.4, 0.45, 0.5, 0.55, 0.6000000000000001, 0.6500000000000001, 0.7000000000000001, 0.7500000000000001, 0.8, 0.8500000000000001, 0.9000000000000001, 0.05, 0.1, 0.15000000000000002, 0.2, 0.25, 0.3, 0.35000000000000003, 0.4, 0.45, 0.5, 0.55, 0.6000000000000001, 0.6500000000000001, 0.7000000000000001, 0.7500000000000001, 0.8, 0.8500000000000001, 0.9000000000000001, 0.05, 0.1, 0.15000000000000002, 0.2, 0.25, 0.3, 0.35000000000000003, 0.4, 0.45, 0.5, 0.55, 0.6000000000000001, 0.6500000000000001, 0.7000000000000001, 0.7500000000000001, 0.8, 0.8500000000000001, 0.9000000000000001, 0.05, 0.1, 0.15000000000000002, 0.2, 0.25, 0.3, 0.35000000000000003, 0.4, 0.45, 0.5, 0.55, 0.6000000000000001, 0.6500000000000001, 0.7000000000000001, 0.7500000000000001, 0.8, 0.05, 0.1, 0.15000000000000002, 0.2, 0.25, 0.3, 0.35000000000000003, 0.4, 0.45, 0.5, 0.55, 0.6000000000000001, 0.6500000000000001]\n"
     ]
    }
   ],
   "source": [
    "########### Write Your Code Here ###########\n",
    "from sklearn.discriminant_analysis import LinearDiscriminantAnalysis\n",
    "from sklearn.metrics import accuracy_score\n",
    "from sklearn import preprocessing\n",
    "\n",
    "\n",
    "# normalization\n",
    "min_max = preprocessing.MinMaxScaler()\n",
    "train_images = min_max.fit_transform(train_images)\n",
    "test_images = min_max.fit_transform(test_images)\n",
    "\n",
    "# 2-valued\n",
    "\n",
    "best_acc = 0.0\n",
    "best_threshold = 0.0\n",
    "best_shrinkage = 0.0\n",
    "good_thresholds = []\n",
    "good_shrinkages = []\n",
    "for threshold in np.arange(0.05, 1, 0.05):\n",
    "    for shrinkage in np.arange(0.05, 1, 0.05):\n",
    "        train_images_ = train_images.copy()\n",
    "        test_images_ = test_images.copy()\n",
    "        train_images_[train_images >= threshold] = 1\n",
    "        train_images_[train_images < threshold] = 0\n",
    "        test_images_[test_images >= threshold] = 1\n",
    "        test_images_[test_images < threshold] = 0\n",
    "\n",
    "        model = LinearDiscriminantAnalysis(solver='lsqr', shrinkage=shrinkage)\n",
    "        model.fit(np.array(train_images_), train_labels)\n",
    "\n",
    "        label_pred = model.predict(np.array(test_images_))\n",
    "        acc = accuracy_score(test_labels, label_pred)\n",
    "        #print(\"2-valued threshiold:\" + str(threshold))\n",
    "        #print(\"shrinkage:\", shrinkage)\n",
    "        #print(\"accuracy_score:\", acc)\n",
    "        #print()\n",
    "        if acc > 0.88:\n",
    "            good_thresholds.append(threshold)\n",
    "            good_shrinkages.append(shrinkage)\n",
    "        if acc > best_acc:\n",
    "            best_acc = acc\n",
    "            best_threshold = threshold\n",
    "            best_shrinkage = shrinkage\n",
    "print(\"good_thresholds:\", good_thresholds)\n",
    "print(\"good_shrinkages:\", good_shrinkages)\n",
    "############################################"
   ]
  },
  {
   "cell_type": "code",
   "execution_count": 26,
   "metadata": {},
   "outputs": [
    {
     "name": "stdout",
     "output_type": "stream",
     "text": [
      "best_threshold: 0.035\n",
      "best_shrinkage: 0.655\n",
      "best_acc: 0.8875\n"
     ]
    }
   ],
   "source": [
    "for threshold in np.arange(0.02, 0.04, 0.005):\n",
    "    for shrinkage in np.arange(0.6, 0.68, 0.005):\n",
    "        train_images_ = train_images.copy()\n",
    "        test_images_ = test_images.copy()\n",
    "        train_images_[train_images >= threshold] = 1\n",
    "        train_images_[train_images < threshold] = 0\n",
    "        test_images_[test_images >= threshold] = 1\n",
    "        test_images_[test_images < threshold] = 0\n",
    "\n",
    "        model = LinearDiscriminantAnalysis(solver='lsqr', shrinkage=shrinkage)\n",
    "        model.fit(np.array(train_images_), train_labels)\n",
    "\n",
    "        label_pred = model.predict(np.array(test_images_))\n",
    "        acc = accuracy_score(test_labels, label_pred)\n",
    "        if acc > best_acc:\n",
    "            best_acc = acc\n",
    "            best_threshold = threshold\n",
    "            best_shrinkage = shrinkage\n",
    "\n",
    "print(\"best_threshold:\", best_threshold)\n",
    "print(\"best_shrinkage:\", best_shrinkage)\n",
    "print(\"best_acc:\", best_acc)"
   ]
  },
  {
   "cell_type": "markdown",
   "metadata": {},
   "source": [
    "## Evaluate model"
   ]
  },
  {
   "cell_type": "code",
   "execution_count": 27,
   "metadata": {
    "tags": []
   },
   "outputs": [
    {
     "name": "stdout",
     "output_type": "stream",
     "text": [
      "best_threshold: 0.035\n",
      "best_shrinkage: 0.655\n",
      "best_acc: 0.8875\n"
     ]
    }
   ],
   "source": [
    "########### Write Your Code Here ###########\n",
    "print(\"best_threshold:\", best_threshold)\n",
    "print(\"best_shrinkage:\", best_shrinkage)\n",
    "print(\"best_acc:\", best_acc)\n",
    "############################################"
   ]
  },
  {
   "cell_type": "markdown",
   "metadata": {},
   "source": [
    "### Exercise 3: Qustions\n",
    "- Q1:What are the advantages and disadvantages of LDA?\n",
    "    - `Advantages: It is tagged with labels and is supervised. Hence it is with clear goal, and reflects differences between samples.`\n",
    "    - `Disadvantages: It is weak when faced with parse data, especially when feature number is close to, or even larger than the sample size.`"
   ]
  },
  {
   "cell_type": "markdown",
   "metadata": {},
   "source": [
    "- Q2 LDA can be used for dimensionality reduction, so can PCA. Please tell the difference between them?\n",
    "    - `LDA is supervised, while PCA is not.`\n",
    "    - `LDA inputs require labels, which enable it to distinguish different classes with its minimizing the variances within one class. PCA cannot.`\n",
    "    - `So on the other side, PCA requires no labeling.`"
   ]
  }
 ],
 "metadata": {
  "kernelspec": {
   "display_name": "Python 3.10.4",
   "language": "python",
   "name": "python3"
  },
  "language_info": {
   "codemirror_mode": {
    "name": "ipython",
    "version": 3
   },
   "file_extension": ".py",
   "mimetype": "text/x-python",
   "name": "python",
   "nbconvert_exporter": "python",
   "pygments_lexer": "ipython3",
   "version": "3.10.4"
  },
  "vscode": {
   "interpreter": {
    "hash": "119555a93dff57b23a42523c50b0a1fb7786bbd4bd2a7dffcdd643392766f1aa"
   }
  }
 },
 "nbformat": 4,
 "nbformat_minor": 2
}
