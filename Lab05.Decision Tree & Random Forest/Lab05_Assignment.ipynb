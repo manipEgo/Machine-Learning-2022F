{
 "cells": [
  {
   "cell_type": "markdown",
   "metadata": {},
   "source": [
    "### Decision tree\n",
    "- <font size=4>Step 1. load iris dataset </font>\n",
    "\n",
    "Datasets: First, we load the scikit-learn iris toy dataset ."
   ]
  },
  {
   "cell_type": "code",
   "execution_count": 1,
   "metadata": {},
   "outputs": [],
   "source": [
    "import numpy as np\n",
    "import matplotlib.pyplot as plt\n",
    "\n",
    "from sklearn import datasets\n",
    "iris = datasets.load_iris()\n"
   ]
  },
  {
   "cell_type": "markdown",
   "metadata": {},
   "source": [
    "- <font size=4> Step 2. Define the features and the target </font>"
   ]
  },
  {
   "cell_type": "code",
   "execution_count": 2,
   "metadata": {},
   "outputs": [],
   "source": [
    "X = iris.data[:, 2:]\n",
    "y = iris.target\n"
   ]
  },
  {
   "cell_type": "markdown",
   "metadata": {},
   "source": [
    "- <font size=4> Step 3. Visualization </font>\n",
    "  \n",
    "    We need to use proper visualization methods to have an intuitive understanding.\n",
    "\n",
    "    For visualization, only the last 2 attributes are used.\n"
   ]
  },
  {
   "cell_type": "code",
   "execution_count": 3,
   "metadata": {},
   "outputs": [
    {
     "data": {
      "image/png": "[encoded data removed]",
      "text/plain": [
       "<Figure size 432x288 with 1 Axes>"
      ]
     },
     "metadata": {},
     "output_type": "display_data"
    }
   ],
   "source": [
    "plt.scatter(X[y == 0, 0], X[y == 0, 1])\n",
    "plt.scatter(X[y == 1, 0], X[y == 1, 1])\n",
    "plt.scatter(X[y == 2, 0], X[y == 2, 1])\n",
    "plt.show()\n"
   ]
  },
  {
   "cell_type": "markdown",
   "metadata": {},
   "source": [
    "- <font size=4> Step 4. Preprocessing data </font>\n",
    "\n",
    "Please check whether the data needs to be preprocessed:\n",
    "\n",
    "- `It need not to be preprocessed.`"
   ]
  },
  {
   "cell_type": "code",
   "execution_count": 4,
   "metadata": {},
   "outputs": [
    {
     "data": {
      "image/png": "[encoded data removed]",
      "text/plain": [
       "<Figure size 432x288 with 1 Axes>"
      ]
     },
     "metadata": {},
     "output_type": "display_data"
    }
   ],
   "source": [
    "plt.scatter(X[:, 0], y)\n",
    "plt.scatter(X[:, 1], y)\n",
    "plt.show()\n"
   ]
  },
  {
   "cell_type": "markdown",
   "metadata": {},
   "source": [
    "- <font size=4> Step 5. Split the dataset into train and test sets </font>\n",
    "  \n",
    " Now we divide the whole dataset into a training set and a test set using the the scikit-learn model_selection module."
   ]
  },
  {
   "cell_type": "code",
   "execution_count": 5,
   "metadata": {},
   "outputs": [],
   "source": [
    "from sklearn.model_selection import train_test_split\n",
    "\n",
    "X_train,X_test,y_train,y_test = train_test_split(X, y, test_size = 0.2, random_state = 114)\n"
   ]
  },
  {
   "cell_type": "markdown",
   "metadata": {},
   "source": [
    "- <font size=4> Step 6. Explore the model parameters </font>\n",
    "  \n",
    "Decision trees are quite easy to use, but they are prone to overfit the training data. Actually almost all the non-parameter learning methods suffer from this problem. We can use pruning to optimize our trained decision trees; we can also adjust the super parameters to avoid overfitting.\n",
    "\n",
    "Adjust these parameters: `criterion`, `max_depth`, `min_samples_leaf`, `min_samples_split`, `max_leaf_nodes`, `min_impurity_split`, and explain how it affects the bias and variance of the classification results."
   ]
  },
  {
   "cell_type": "code",
   "execution_count": 6,
   "metadata": {},
   "outputs": [
    {
     "name": "stdout",
     "output_type": "stream",
     "text": [
      "best score: 0.8666666666666667\n",
      "best criteria: gini\n",
      "best max depth: 0\n",
      "best min samples leaf: 1e-05\n",
      "best min samples split: 2\n",
      "best min impurity decrease: 0.05\n"
     ]
    }
   ],
   "source": [
    "from sklearn.tree import DecisionTreeClassifier\n",
    "\n",
    "best_score = -1\n",
    "best_criteria = \"gini\"\n",
    "best_max_depth = None\n",
    "best_min_samples_leaf = 0.0\n",
    "best_min_samples_split = 1\n",
    "best_min_impurity_decrease = 0.0\n",
    "\n",
    "# criterions are the function to measure the quality of a split\n",
    "# they affect the bias and variance at the very first place\n",
    "for criteria in {\"gini\", \"entropy\"}:\n",
    "    # the max_depth is default to none, which means nodes are expanded\n",
    "    # until all leaves are pure or until all leaves contain less than min_samples_split samples\n",
    "    # proper depth suppresses overfitting and decreases bias & variance\n",
    "    for max_depth in range(0, 100, 5):\n",
    "    \n",
    "        # the min_samples_leaf is for handling overfitting problems\n",
    "        # it prunes the branches with less samples than its value\n",
    "        # same effect as depth\n",
    "        for min_samples_leaf in np.arange(1e-5, 0.5, 0.05):\n",
    "            # the min_samples_split is controlling the minimum sample number to form a child\n",
    "            # similar to min_samples_leaf\n",
    "            for min_samples_split in range(2, 10):\n",
    "                # the max_leaf_nodes also prevents overfitting.\n",
    "                # I am not to limit this number on this small dataset\n",
    "\n",
    "                # min_impurity_decrease, rather than min_impurity_split, is defined by\n",
    "                # N_t / N * (impurity - N_t_R / N_t * right_impurity - N_t_L / N_t * left_impurity)\n",
    "                # a node will be split if this split induces a decrease\n",
    "                # of the impurity greater than or equal to this value\n",
    "                for min_impurity_decrease in np.arange(0.0, 0.5, 0.05):\n",
    "                    if max_depth != 0:\n",
    "                        model = DecisionTreeClassifier(\n",
    "                            criterion=criteria,\n",
    "                            max_depth=max_depth,\n",
    "                            min_samples_leaf=min_samples_leaf,\n",
    "                            min_samples_split=min_samples_split,\n",
    "                            min_impurity_decrease=min_impurity_decrease)\n",
    "                    else:\n",
    "                        model = DecisionTreeClassifier(\n",
    "                            criterion=criteria,\n",
    "                            min_samples_leaf=min_samples_leaf,\n",
    "                            min_samples_split=min_samples_split,\n",
    "                            min_impurity_decrease=min_impurity_decrease)\n",
    "                    model.fit(X_train, y_train)\n",
    "                    score = model.score(X_test, y_test)\n",
    "                    if score > best_score:\n",
    "                        best_score = score\n",
    "                        best_criteria = criteria\n",
    "                        best_max_depth = max_depth\n",
    "                        best_min_samples_leaf = min_samples_leaf\n",
    "                        best_min_samples_split = min_samples_split\n",
    "                        best_min_impurity_decrease = min_impurity_decrease\n",
    "\n",
    "print(\"best score:\", best_score)\n",
    "print(\"best criteria:\", best_criteria)\n",
    "print(\"best max depth:\", best_max_depth)\n",
    "print(\"best min samples leaf:\", best_min_samples_leaf)\n",
    "print('best min samples split:', best_min_samples_split)\n",
    "print(\"best min impurity decrease:\", best_min_impurity_decrease)\n"
   ]
  },
  {
   "cell_type": "markdown",
   "metadata": {},
   "source": [
    "- <font size=4> Step 7. Use the model of your choice on the test set </font>"
   ]
  },
  {
   "cell_type": "code",
   "execution_count": 7,
   "metadata": {},
   "outputs": [],
   "source": [
    "model = DecisionTreeClassifier(\n",
    "    criterion=best_criteria,\n",
    "    min_samples_leaf=best_min_samples_leaf,\n",
    "    min_samples_split=best_min_samples_split,\n",
    "    min_impurity_decrease=best_min_impurity_decrease)\n",
    "\n",
    "model.fit(X_train, y_train)\n",
    "y_pred = model.predict(X_test)\n"
   ]
  },
  {
   "cell_type": "markdown",
   "metadata": {},
   "source": [
    "- <font size=4> Step 8. Evaluate the model </font>\n",
    "\n",
    " - `The model is rather acceptable with a bias of 0.13, a variance of 0.07, a RMSE at a scale of 0.183 of the dataset range, a R2 of 0.748, and an accuracy of 0.87.`"
   ]
  },
  {
   "cell_type": "code",
   "execution_count": 8,
   "metadata": {},
   "outputs": [
    {
     "name": "stdout",
     "output_type": "stream",
     "text": [
      "Bias & Variance:\n",
      "Average Expected Loss: 0.1233n\n",
      "Average Bias: 0.1333\n",
      "Average Variance: 0.07\n",
      "\n",
      "RMSE: 0.3651483716701107\n",
      "R2 Score: 0.7478991596638656\n",
      "Accuracy: 0.8666666666666667\n"
     ]
    }
   ],
   "source": [
    "from sklearn import metrics\n",
    "from mlxtend.evaluate import bias_variance_decomp\n",
    "\n",
    "rmse = np.sqrt(metrics.mean_squared_error(y_test, y_pred))\n",
    "r2 = metrics.r2_score(y_test, y_pred)\n",
    "accuracy = metrics.accuracy_score(y_test, y_pred)\n",
    "\n",
    "avg_expected_loss, avg_bias, avg_var = bias_variance_decomp(model, X_train, y_train, X_test, y_test, loss='0-1_loss',random_seed=123,num_rounds=10)\n",
    "print(\"Bias & Variance:\")\n",
    "print(f'Average Expected Loss: {round(avg_expected_loss, 4)}n')\n",
    "print(f'Average Bias: {round(avg_bias, 4)}')\n",
    "print(f'Average Variance: {round(avg_var, 4)}')\n",
    "\n",
    "print(\"\\nRMSE:\", rmse)\n",
    "print(\"R2 Score:\", r2)\n",
    "print(\"Accuracy:\", accuracy)\n"
   ]
  },
  {
   "cell_type": "markdown",
   "metadata": {},
   "source": [
    "- <font size=4> Step 9. Visual decision boundary and generated decision tree </font>"
   ]
  },
  {
   "cell_type": "code",
   "execution_count": 9,
   "metadata": {},
   "outputs": [
    {
     "data": {
      "image/png": "[encoded data removed]",
      "text/plain": [
       "<Figure size 432x288 with 1 Axes>"
      ]
     },
     "metadata": {},
     "output_type": "display_data"
    }
   ],
   "source": [
    "from mlxtend.plotting import plot_decision_regions\n",
    "plot_decision_regions(X_train, y_train, clf=model)\t\n",
    "plt.title('Decision Tree Classifier')\t\n",
    "plt.show()\n"
   ]
  },
  {
   "cell_type": "markdown",
   "metadata": {},
   "source": [
    "### Random forest\n",
    "\n",
    "In this section, you are required to use random forests for classification. Thus, in `scikit-learn`, there are two ways to implement a random forset, from the Bagging view and from the RF view.<br>\n",
    "\n",
    " - Classify `iris`  using `BaggingClassifier( )` and `RandomForestClassifier( )` respectively."
   ]
  },
  {
   "cell_type": "code",
   "execution_count": 10,
   "metadata": {},
   "outputs": [],
   "source": [
    "from sklearn.ensemble import RandomForestClassifier\n",
    "from sklearn.ensemble import BaggingClassifier\n",
    "\n",
    "rf_clf = RandomForestClassifier(\n",
    "    n_estimators=300,\n",
    "    random_state=666, # random attributes subset\n",
    "    oob_score=True,\n",
    "    # n_jobs=-1\n",
    ")\n",
    "rf_clf.fit(X_train,y_train)\n",
    "\n",
    "bagging_clf = BaggingClassifier(\n",
    "    DecisionTreeClassifier(),\n",
    "    n_estimators=300,\n",
    "    bootstrap=True, # using bootstrap sampling method\n",
    "    oob_score=True, # use oob data for scoring\n",
    "    # n_jobs=-1 # use paralell computing\n",
    ")\n",
    "bagging_clf.fit(X_train,y_train)\n",
    "\n",
    "rf_pred = rf_clf.predict(X_test)\n",
    "bagging_pred = bagging_clf.predict(X_test)"
   ]
  },
  {
   "cell_type": "markdown",
   "metadata": {},
   "source": [
    "- Compare the performances of two  methods and evaluate the model using bias and variance"
   ]
  },
  {
   "cell_type": "code",
   "execution_count": 11,
   "metadata": {},
   "outputs": [
    {
     "name": "stdout",
     "output_type": "stream",
     "text": [
      "RF:\n",
      "Average Expected Loss: 0.1033n\n",
      "Average Bias: 0.1\n",
      "Average Variance: 0.0367\n",
      "Bagging:\n",
      "Average Expected Loss: 0.1233n\n",
      "Average Bias: 0.1\n",
      "Average Variance: 0.05\n"
     ]
    }
   ],
   "source": [
    "avg_expected_loss, avg_bias, avg_var = bias_variance_decomp(rf_clf, X_train, y_train, X_test, y_test, loss='0-1_loss',random_seed=123,num_rounds=10)\n",
    "print(\"RF:\")\n",
    "print(f'Average Expected Loss: {round(avg_expected_loss, 4)}n')\n",
    "print(f'Average Bias: {round(avg_bias, 4)}')\n",
    "print(f'Average Variance: {round(avg_var, 4)}')\n",
    "\n",
    "avg_expected_loss, avg_bias, avg_var = bias_variance_decomp(bagging_clf, X_train, y_train, X_test, y_test, loss='0-1_loss',random_seed=123,num_rounds=10)\n",
    "print(\"Bagging:\")\n",
    "print(f'Average Expected Loss: {round(avg_expected_loss, 4)}n')\n",
    "print(f'Average Bias: {round(avg_bias, 4)}')\n",
    "print(f'Average Variance: {round(avg_var, 4)}')"
   ]
  },
  {
   "cell_type": "markdown",
   "metadata": {},
   "source": [
    "### Other ensemble learning\n",
    "\n",
    "In this part, you are required  to use `AdaBoost` and `Gradient boosting`. Compare their performances with decision tree and random forest, and finally select the best model and the optimal parameters for iris classification."
   ]
  },
  {
   "cell_type": "code",
   "execution_count": 12,
   "metadata": {},
   "outputs": [
    {
     "name": "stdout",
     "output_type": "stream",
     "text": [
      "AdaBoost:\n",
      "\n",
      "SAMME\n",
      "n_estimators: 101\n",
      "SAMME.R\n",
      "n_estimators: 101\n",
      "Gradient:\n",
      "\n",
      "squared_error\n",
      "n_estimators: 101\n",
      "friedman_mse\n",
      "n_estimators: 101\n",
      "AdaBoost:\n",
      "Average Expected Loss: 0.42n\n",
      "Average Bias: 0.4333\n",
      "Average Variance: 0.3333\n",
      "Gradient:\n",
      "Average Expected Loss: 0.1133n\n",
      "Average Bias: 0.1\n",
      "Average Variance: 0.0533\n"
     ]
    }
   ],
   "source": [
    "from sklearn.ensemble import AdaBoostClassifier, GradientBoostingClassifier\n",
    "from sklearn.model_selection import KFold\n",
    "\n",
    "best_algorithm_ada = \"\"\n",
    "best_n_estimator_ada = 1\n",
    "best_bias_ada = 100\n",
    "best_var_ada = 100\n",
    "\n",
    "best_criteria_gra = \"\"\n",
    "best_n_estimator_gra = 1\n",
    "best_bias_gra = 100\n",
    "best_var_gra = 100\n",
    "\n",
    "kf = KFold(n_splits=4, random_state=114, shuffle=True)\n",
    "\n",
    "print(\"AdaBoost:\")\n",
    "for algorithm in {\"SAMME\", \"SAMME.R\"}:\n",
    "    print(\"\\n\" + algorithm)\n",
    "    for n_estimators in range(1, 102, 10):\n",
    "        print(\"\\rn_estimators:\", n_estimators, end=\"\")\n",
    "        ada = AdaBoostClassifier(algorithm=algorithm, n_estimators=n_estimators, random_state=114)\n",
    "        biases = []\n",
    "        variances = []\n",
    "        for train_index, test_index in kf.split(X_train):\n",
    "            Xk_train, Xk_test = X[train_index], X[test_index]\n",
    "            yk_train, yk_test = y[train_index], y[test_index]\n",
    "            ada.fit(Xk_train, yk_train)\n",
    "            avg_expected_loss, avg_bias, avg_var = bias_variance_decomp(\n",
    "                ada, Xk_train, yk_train, Xk_test, yk_test, loss='0-1_loss',random_seed=123,num_rounds=10)\n",
    "            biases.append(avg_bias)\n",
    "            variances.append(avg_var)\n",
    "        if np.average(biases) < best_bias_ada and np.average(variances) < best_var_ada:\n",
    "            best_bias_ada = np.average(biases)\n",
    "            best_var_ada = np.average(variances)\n",
    "            best_algorithm_ada = algorithm\n",
    "            best_n_estimator_ada = n_estimators\n",
    "\n",
    "print(\"\\nGradient:\")\n",
    "for criteria in {\"friedman_mse\", \"squared_error\", \"squared_error\"}:\n",
    "    print(\"\\n\" + criteria)\n",
    "    for n_estimators in range(1, 102, 10):\n",
    "        print(\"\\rn_estimators:\", n_estimators, end=\"\")\n",
    "        gra = GradientBoostingClassifier(criterion=criteria, n_estimators=n_estimators, random_state=114)\n",
    "        kf = KFold(n_splits=4, random_state=None, shuffle=False)\n",
    "        biases = []\n",
    "        variances = []\n",
    "        for train_index, test_index in kf.split(X_train):\n",
    "            Xk_train, Xk_test = X[train_index], X[test_index]\n",
    "            yk_train, yk_test = y[train_index], y[test_index]\n",
    "            gra.fit(Xk_train, yk_train)\n",
    "            avg_expected_loss, avg_bias, avg_var = bias_variance_decomp(\n",
    "                gra, Xk_train, yk_train, Xk_test, yk_test, loss='0-1_loss', random_seed=123, num_rounds=10)\n",
    "            biases.append(avg_bias)\n",
    "            variances.append(avg_var)\n",
    "        if np.average(biases) < best_bias_gra and np.average(variances) < best_var_gra:\n",
    "            best_bias_gra = np.average(biases)\n",
    "            best_var_gra = np.average(variances)\n",
    "            best_criteria_gra = criteria\n",
    "            best_n_estimator_gra = n_estimators\n",
    "\n",
    "ada = AdaBoostClassifier(algorithm=best_algorithm_ada, n_estimators=best_n_estimator_ada)\n",
    "ada.fit(X_train, y_train)\n",
    "ada_expected_loss, ada_bias, ada_var = bias_variance_decomp(\n",
    "    ada, X_train, y_train, X_test, y_test, loss='0-1_loss', random_seed=123, num_rounds=10)\n",
    "gra = GradientBoostingClassifier(criterion=best_criteria_gra, n_estimators=best_n_estimator_gra)\n",
    "gra.fit(X_train, y_train)\n",
    "gra_expected_loss, gra_bias, gra_var = bias_variance_decomp(\n",
    "    gra, X_train, y_train, X_test, y_test, loss='0-1_loss', random_seed=123, num_rounds=10)\n",
    "\n",
    "print()\n",
    "print(\"AdaBoost:\")\n",
    "print(f'Average Expected Loss: {round(ada_expected_loss, 4)}n')\n",
    "print(f'Average Bias: {round(ada_bias, 4)}')\n",
    "print(f'Average Variance: {round(ada_var, 4)}')\n",
    "\n",
    "print(\"Gradient:\")\n",
    "print(f'Average Expected Loss: {round(gra_expected_loss, 4)}n')\n",
    "print(f'Average Bias: {round(gra_bias, 4)}')\n",
    "print(f'Average Variance: {round(gra_var, 4)}')\n"
   ]
  },
  {
   "cell_type": "markdown",
   "metadata": {},
   "source": [
    "`The best model overall is BaggingClassifier.`"
   ]
  },
  {
   "cell_type": "markdown",
   "metadata": {},
   "source": [
    "### Questions:\n",
    "(1) Can decision trees and random forests be used for unsupervised clustering or data dimension reduction? Why?\n",
    "\n",
    " - `No. If there is no expected output, then a decision tree cannot decide how to split a node at the first place. It is supervised so that it knows part of the data belong to one group and the rest another. It must be supervised.`\n",
    "\n",
    "(2) What are the strengths of the decision tree/random forest methods; when do they perform well?\n",
    "\n",
    " - `They are relatively fast.`\n",
    " - `They can handle many dimensions.`\n",
    " - `Their decisions are reasonable to human.`\n",
    " - `They are easy to implement.`\n",
    "\n",
    " `They perform well when the data is clear with regard to the features. When available computing power & time are limited, they stand out often.`\n",
    "\n",
    "(3) What are the weaknesses of the decision tree/random forest methods; when do they perform poorly?\n",
    "\n",
    " - `They are senssitive to noises. They overfit often.`\n",
    " - `Their weighting outcomes is largely affected by the number of split data. Hence can sometimes be unreliable.`\n",
    "\n",
    " `They perform poorly when the parameters are not well tuned and overfit a lot.`\n",
    "\n",
    "(4) What makes the decision tree/random forest a good candidate for the classification/regression problem, if you have enough knowledge about the data?\n",
    "\n",
    " - `If the data and the outcome need to be explained, and the feature types are very large for other reasonable algorithms, or if I need a good and fast baseline, I will choose decision tree/random forest.`"
   ]
  }
 ],
 "metadata": {
  "kernelspec": {
   "display_name": "Python 3.9.12 ('base')",
   "language": "python",
   "name": "python3"
  },
  "language_info": {
   "codemirror_mode": {
    "name": "ipython",
    "version": 3
   },
   "file_extension": ".py",
   "mimetype": "text/x-python",
   "name": "python",
   "nbconvert_exporter": "python",
   "pygments_lexer": "ipython3",
   "version": "3.9.12"
  },
  "orig_nbformat": 4,
  "vscode": {
   "interpreter": {
    "hash": "17c22e34abe24b887fea2cacf80605289d2dfd89ecbd8add61db50cea789d8af"
   }
  }
 },
 "nbformat": 4,
 "nbformat_minor": 2
}
