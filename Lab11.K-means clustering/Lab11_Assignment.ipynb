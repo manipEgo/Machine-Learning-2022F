{
 "cells": [
  {
   "attachments": {},
   "cell_type": "markdown",
   "metadata": {},
   "source": [
    "### Questions\n",
    "\n",
    "1. What are the strengths of K-means; when does it perform well?\n",
    "\n",
    "    `K-means is super fast. it performs well when the clusters are fat and ball-shaped.`\n",
    "\n",
    "2. What are the weaknesses of K-means; when does it perform poorly?\n",
    "\n",
    "    `K-means cannot recognize bar-shaped clusters. It performs poorly when the shapes of clusters are complex.`\n",
    "\n",
    "3. What makes K-means a good candidate for the clustering problem, if you have enough knowledge about the data?\n",
    "\n",
    "    `K-means is a good choice when we only want a fast first-look into the data, or if the dataset is just simple and straight forward.`"
   ]
  },
  {
   "attachments": {},
   "cell_type": "markdown",
   "metadata": {},
   "source": [
    "### Import Libraries"
   ]
  },
  {
   "cell_type": "code",
   "execution_count": 7,
   "metadata": {},
   "outputs": [],
   "source": [
    "import numpy as np\n",
    "import cv2\n",
    "import tqdm\n",
    "import os\n",
    "import sys\n",
    "# color of different clusters\n",
    "GBR = [[0, 0, 255],\n",
    "       [0, 128, 255],\n",
    "       [255, 0, 0],\n",
    "       [128, 0, 128],\n",
    "       [255, 0, 255]]\n",
    "\n",
    "# path configuration\n",
    "project_root = os.path.abspath('.')\n",
    "output_path = os.path.join(project_root)\n",
    "input_path = os.path.join(project_root)\n",
    "if not os.path.exists(output_path):\n",
    "    os.makedirs(output_path)"
   ]
  },
  {
   "attachments": {},
   "cell_type": "markdown",
   "metadata": {},
   "source": [
    "### Implement K-Means"
   ]
  },
  {
   "cell_type": "code",
   "execution_count": 8,
   "metadata": {},
   "outputs": [],
   "source": [
    "def kmeans(data:np.ndarray, n_cl:int, seed:int=114, batch_size:int=1000):\n",
    "    \"\"\"\n",
    "        K-means\n",
    "\n",
    "    :param data:    original data\n",
    "    :param n_cl:    number of classes\n",
    "    :param seeds:   seeds\n",
    "    :return:        new labels and new seeds\n",
    "    \"\"\"\n",
    "    np.random.seed(seed)\n",
    "    mini_data = data[np.random.choice(data.shape[0], batch_size, replace=False)]\n",
    "    \n",
    "    n_samples, n_channels = mini_data.shape\n",
    "\n",
    "    # TODO: firstly you should init centroids by a certain strategy\n",
    "    centers = mini_data[np.random.choice(n_samples, n_cl, replace=False)]\n",
    "\n",
    "    old_labels = np.zeros((n_samples,), dtype=int)\n",
    "    while True:\n",
    "        # TODO: calc distance between samples and centroids\n",
    "        distances = [[np.sum(np.square(mini_data[i] - centers[k])) for k in range(n_cl)] for i in range(n_samples)]\n",
    "\n",
    "        # TODO: classify samples\n",
    "        new_labels = np.zeros((n_samples,), dtype=int)\n",
    "        for x in range(n_samples):\n",
    "            new_labels[x] = np.argmin(distances[x])\n",
    "\n",
    "        # TODO: update centroids\n",
    "        distances = np.array(distances)\n",
    "        if len(np.unique(new_labels)) < n_cl:\n",
    "            print(np.unique(new_labels))\n",
    "        for x in range(n_cl):\n",
    "            centers[x] = np.mean(mini_data[np.argwhere(new_labels == x).flatten()])\n",
    "\n",
    "        if np.all(new_labels == old_labels):\n",
    "            break\n",
    "        old_labels = new_labels\n",
    "\n",
    "    n_samples, n_channels = data.shape\n",
    "    print(\"last dist calc:\")\n",
    "    distances = [[np.sum(np.square(data[i] - centers[k])) for k in range(n_cl)] for i in tqdm.tqdm(range(n_samples))]\n",
    "    new_labels = np.zeros((n_samples,), dtype=int)\n",
    "    print(\"last label mark:\")\n",
    "    for x in tqdm.tqdm(range(n_samples)):\n",
    "        new_labels[x] = np.argmin(distances[x])\n",
    "\n",
    "    return new_labels"
   ]
  },
  {
   "attachments": {},
   "cell_type": "markdown",
   "metadata": {},
   "source": [
    "### Convert the Video"
   ]
  },
  {
   "cell_type": "code",
   "execution_count": 9,
   "metadata": {},
   "outputs": [
    {
     "name": "stdout",
     "output_type": "stream",
     "text": [
      "Begin clustering with 4 classes:\n",
      "1 / 35\n",
      "last dist calc:\n"
     ]
    },
    {
     "name": "stderr",
     "output_type": "stream",
     "text": [
      "100%|██████████| 2073600/2073600 [00:52<00:00, 39781.15it/s]\n"
     ]
    },
    {
     "name": "stdout",
     "output_type": "stream",
     "text": [
      "last label mark:\n"
     ]
    },
    {
     "name": "stderr",
     "output_type": "stream",
     "text": [
      "100%|██████████| 2073600/2073600 [00:08<00:00, 230434.83it/s]\n"
     ]
    },
    {
     "name": "stdout",
     "output_type": "stream",
     "text": [
      "2 / 35\n",
      "last dist calc:\n"
     ]
    },
    {
     "name": "stderr",
     "output_type": "stream",
     "text": [
      "100%|██████████| 2073600/2073600 [00:53<00:00, 39010.35it/s]\n"
     ]
    },
    {
     "name": "stdout",
     "output_type": "stream",
     "text": [
      "last label mark:\n"
     ]
    },
    {
     "name": "stderr",
     "output_type": "stream",
     "text": [
      "100%|██████████| 2073600/2073600 [00:08<00:00, 243143.50it/s]\n"
     ]
    },
    {
     "name": "stdout",
     "output_type": "stream",
     "text": [
      "3 / 35\n",
      "last dist calc:\n"
     ]
    },
    {
     "name": "stderr",
     "output_type": "stream",
     "text": [
      "100%|██████████| 2073600/2073600 [00:47<00:00, 43325.27it/s]\n"
     ]
    },
    {
     "name": "stdout",
     "output_type": "stream",
     "text": [
      "last label mark:\n"
     ]
    },
    {
     "name": "stderr",
     "output_type": "stream",
     "text": [
      "100%|██████████| 2073600/2073600 [00:08<00:00, 244967.58it/s]\n"
     ]
    },
    {
     "name": "stdout",
     "output_type": "stream",
     "text": [
      "4 / 35\n",
      "last dist calc:\n"
     ]
    },
    {
     "name": "stderr",
     "output_type": "stream",
     "text": [
      "100%|██████████| 2073600/2073600 [00:50<00:00, 41240.21it/s]\n"
     ]
    },
    {
     "name": "stdout",
     "output_type": "stream",
     "text": [
      "last label mark:\n"
     ]
    },
    {
     "name": "stderr",
     "output_type": "stream",
     "text": [
      "100%|██████████| 2073600/2073600 [00:08<00:00, 244792.61it/s]\n"
     ]
    },
    {
     "name": "stdout",
     "output_type": "stream",
     "text": [
      "5 / 35\n",
      "last dist calc:\n"
     ]
    },
    {
     "name": "stderr",
     "output_type": "stream",
     "text": [
      "100%|██████████| 2073600/2073600 [00:44<00:00, 46159.25it/s]\n"
     ]
    },
    {
     "name": "stdout",
     "output_type": "stream",
     "text": [
      "last label mark:\n"
     ]
    },
    {
     "name": "stderr",
     "output_type": "stream",
     "text": [
      "100%|██████████| 2073600/2073600 [00:07<00:00, 259560.30it/s]\n"
     ]
    },
    {
     "name": "stdout",
     "output_type": "stream",
     "text": [
      "6 / 35\n",
      "last dist calc:\n"
     ]
    },
    {
     "name": "stderr",
     "output_type": "stream",
     "text": [
      "100%|██████████| 2073600/2073600 [00:45<00:00, 45992.21it/s]\n"
     ]
    },
    {
     "name": "stdout",
     "output_type": "stream",
     "text": [
      "last label mark:\n"
     ]
    },
    {
     "name": "stderr",
     "output_type": "stream",
     "text": [
      "100%|██████████| 2073600/2073600 [00:08<00:00, 258145.66it/s]\n"
     ]
    },
    {
     "name": "stdout",
     "output_type": "stream",
     "text": [
      "7 / 35\n",
      "last dist calc:\n"
     ]
    },
    {
     "name": "stderr",
     "output_type": "stream",
     "text": [
      "100%|██████████| 2073600/2073600 [00:46<00:00, 44932.55it/s]\n"
     ]
    },
    {
     "name": "stdout",
     "output_type": "stream",
     "text": [
      "last label mark:\n"
     ]
    },
    {
     "name": "stderr",
     "output_type": "stream",
     "text": [
      "100%|██████████| 2073600/2073600 [00:08<00:00, 258588.22it/s]\n"
     ]
    },
    {
     "name": "stdout",
     "output_type": "stream",
     "text": [
      "8 / 35\n",
      "last dist calc:\n"
     ]
    },
    {
     "name": "stderr",
     "output_type": "stream",
     "text": [
      "100%|██████████| 2073600/2073600 [00:45<00:00, 45602.97it/s]\n"
     ]
    },
    {
     "name": "stdout",
     "output_type": "stream",
     "text": [
      "last label mark:\n"
     ]
    },
    {
     "name": "stderr",
     "output_type": "stream",
     "text": [
      "100%|██████████| 2073600/2073600 [00:09<00:00, 216793.70it/s]\n"
     ]
    },
    {
     "name": "stdout",
     "output_type": "stream",
     "text": [
      "9 / 35\n",
      "last dist calc:\n"
     ]
    },
    {
     "name": "stderr",
     "output_type": "stream",
     "text": [
      "100%|██████████| 2073600/2073600 [00:49<00:00, 41558.89it/s]\n"
     ]
    },
    {
     "name": "stdout",
     "output_type": "stream",
     "text": [
      "last label mark:\n"
     ]
    },
    {
     "name": "stderr",
     "output_type": "stream",
     "text": [
      "100%|██████████| 2073600/2073600 [00:09<00:00, 224401.47it/s]\n"
     ]
    },
    {
     "name": "stdout",
     "output_type": "stream",
     "text": [
      "10 / 35\n",
      "last dist calc:\n"
     ]
    },
    {
     "name": "stderr",
     "output_type": "stream",
     "text": [
      "100%|██████████| 2073600/2073600 [00:55<00:00, 37569.49it/s]\n"
     ]
    },
    {
     "name": "stdout",
     "output_type": "stream",
     "text": [
      "last label mark:\n"
     ]
    },
    {
     "name": "stderr",
     "output_type": "stream",
     "text": [
      "100%|██████████| 2073600/2073600 [00:09<00:00, 208671.96it/s]\n"
     ]
    },
    {
     "name": "stdout",
     "output_type": "stream",
     "text": [
      "11 / 35\n",
      "last dist calc:\n"
     ]
    },
    {
     "name": "stderr",
     "output_type": "stream",
     "text": [
      "100%|██████████| 2073600/2073600 [00:51<00:00, 40373.60it/s]\n"
     ]
    },
    {
     "name": "stdout",
     "output_type": "stream",
     "text": [
      "last label mark:\n"
     ]
    },
    {
     "name": "stderr",
     "output_type": "stream",
     "text": [
      "100%|██████████| 2073600/2073600 [00:08<00:00, 235450.93it/s]\n"
     ]
    },
    {
     "name": "stdout",
     "output_type": "stream",
     "text": [
      "12 / 35\n",
      "last dist calc:\n"
     ]
    },
    {
     "name": "stderr",
     "output_type": "stream",
     "text": [
      "100%|██████████| 2073600/2073600 [00:49<00:00, 41925.37it/s]\n"
     ]
    },
    {
     "name": "stdout",
     "output_type": "stream",
     "text": [
      "last label mark:\n"
     ]
    },
    {
     "name": "stderr",
     "output_type": "stream",
     "text": [
      "100%|██████████| 2073600/2073600 [00:08<00:00, 236650.28it/s]\n"
     ]
    },
    {
     "name": "stdout",
     "output_type": "stream",
     "text": [
      "13 / 35\n",
      "last dist calc:\n"
     ]
    },
    {
     "name": "stderr",
     "output_type": "stream",
     "text": [
      "100%|██████████| 2073600/2073600 [00:51<00:00, 40280.68it/s]\n"
     ]
    },
    {
     "name": "stdout",
     "output_type": "stream",
     "text": [
      "last label mark:\n"
     ]
    },
    {
     "name": "stderr",
     "output_type": "stream",
     "text": [
      "100%|██████████| 2073600/2073600 [00:09<00:00, 218155.85it/s]\n"
     ]
    },
    {
     "name": "stdout",
     "output_type": "stream",
     "text": [
      "14 / 35\n",
      "last dist calc:\n"
     ]
    },
    {
     "name": "stderr",
     "output_type": "stream",
     "text": [
      "100%|██████████| 2073600/2073600 [00:50<00:00, 41082.71it/s]\n"
     ]
    },
    {
     "name": "stdout",
     "output_type": "stream",
     "text": [
      "last label mark:\n"
     ]
    },
    {
     "name": "stderr",
     "output_type": "stream",
     "text": [
      "100%|██████████| 2073600/2073600 [00:08<00:00, 233089.24it/s]\n"
     ]
    },
    {
     "name": "stdout",
     "output_type": "stream",
     "text": [
      "15 / 35\n",
      "last dist calc:\n"
     ]
    },
    {
     "name": "stderr",
     "output_type": "stream",
     "text": [
      "100%|██████████| 2073600/2073600 [00:49<00:00, 41956.60it/s]\n"
     ]
    },
    {
     "name": "stdout",
     "output_type": "stream",
     "text": [
      "last label mark:\n"
     ]
    },
    {
     "name": "stderr",
     "output_type": "stream",
     "text": [
      "100%|██████████| 2073600/2073600 [00:09<00:00, 224623.29it/s]\n"
     ]
    },
    {
     "name": "stdout",
     "output_type": "stream",
     "text": [
      "16 / 35\n",
      "last dist calc:\n"
     ]
    },
    {
     "name": "stderr",
     "output_type": "stream",
     "text": [
      "100%|██████████| 2073600/2073600 [00:53<00:00, 38880.43it/s]\n"
     ]
    },
    {
     "name": "stdout",
     "output_type": "stream",
     "text": [
      "last label mark:\n"
     ]
    },
    {
     "name": "stderr",
     "output_type": "stream",
     "text": [
      "100%|██████████| 2073600/2073600 [00:08<00:00, 231151.84it/s]\n"
     ]
    },
    {
     "name": "stdout",
     "output_type": "stream",
     "text": [
      "17 / 35\n",
      "last dist calc:\n"
     ]
    },
    {
     "name": "stderr",
     "output_type": "stream",
     "text": [
      "100%|██████████| 2073600/2073600 [00:56<00:00, 36490.99it/s]\n"
     ]
    },
    {
     "name": "stdout",
     "output_type": "stream",
     "text": [
      "last label mark:\n"
     ]
    },
    {
     "name": "stderr",
     "output_type": "stream",
     "text": [
      "100%|██████████| 2073600/2073600 [00:10<00:00, 191016.36it/s]\n"
     ]
    },
    {
     "name": "stdout",
     "output_type": "stream",
     "text": [
      "18 / 35\n",
      "last dist calc:\n"
     ]
    },
    {
     "name": "stderr",
     "output_type": "stream",
     "text": [
      "100%|██████████| 2073600/2073600 [00:54<00:00, 38237.93it/s]\n"
     ]
    },
    {
     "name": "stdout",
     "output_type": "stream",
     "text": [
      "last label mark:\n"
     ]
    },
    {
     "name": "stderr",
     "output_type": "stream",
     "text": [
      "100%|██████████| 2073600/2073600 [00:08<00:00, 233527.29it/s]\n"
     ]
    },
    {
     "name": "stdout",
     "output_type": "stream",
     "text": [
      "19 / 35\n",
      "last dist calc:\n"
     ]
    },
    {
     "name": "stderr",
     "output_type": "stream",
     "text": [
      "100%|██████████| 2073600/2073600 [00:51<00:00, 40098.17it/s]\n"
     ]
    },
    {
     "name": "stdout",
     "output_type": "stream",
     "text": [
      "last label mark:\n"
     ]
    },
    {
     "name": "stderr",
     "output_type": "stream",
     "text": [
      "100%|██████████| 2073600/2073600 [00:09<00:00, 217288.13it/s]\n"
     ]
    },
    {
     "name": "stdout",
     "output_type": "stream",
     "text": [
      "20 / 35\n",
      "last dist calc:\n"
     ]
    },
    {
     "name": "stderr",
     "output_type": "stream",
     "text": [
      "100%|██████████| 2073600/2073600 [00:50<00:00, 41323.72it/s]\n"
     ]
    },
    {
     "name": "stdout",
     "output_type": "stream",
     "text": [
      "last label mark:\n"
     ]
    },
    {
     "name": "stderr",
     "output_type": "stream",
     "text": [
      "100%|██████████| 2073600/2073600 [00:08<00:00, 236090.93it/s]\n"
     ]
    },
    {
     "name": "stdout",
     "output_type": "stream",
     "text": [
      "21 / 35\n",
      "last dist calc:\n"
     ]
    },
    {
     "name": "stderr",
     "output_type": "stream",
     "text": [
      "100%|██████████| 2073600/2073600 [00:48<00:00, 42612.11it/s]\n"
     ]
    },
    {
     "name": "stdout",
     "output_type": "stream",
     "text": [
      "last label mark:\n"
     ]
    },
    {
     "name": "stderr",
     "output_type": "stream",
     "text": [
      "100%|██████████| 2073600/2073600 [00:08<00:00, 236688.17it/s]\n"
     ]
    },
    {
     "name": "stdout",
     "output_type": "stream",
     "text": [
      "22 / 35\n",
      "last dist calc:\n"
     ]
    },
    {
     "name": "stderr",
     "output_type": "stream",
     "text": [
      "100%|██████████| 2073600/2073600 [00:52<00:00, 39267.05it/s]\n"
     ]
    },
    {
     "name": "stdout",
     "output_type": "stream",
     "text": [
      "last label mark:\n"
     ]
    },
    {
     "name": "stderr",
     "output_type": "stream",
     "text": [
      "100%|██████████| 2073600/2073600 [00:09<00:00, 211035.36it/s]\n"
     ]
    },
    {
     "name": "stdout",
     "output_type": "stream",
     "text": [
      "23 / 35\n",
      "last dist calc:\n"
     ]
    },
    {
     "name": "stderr",
     "output_type": "stream",
     "text": [
      "100%|██████████| 2073600/2073600 [00:50<00:00, 41379.16it/s]\n"
     ]
    },
    {
     "name": "stdout",
     "output_type": "stream",
     "text": [
      "last label mark:\n"
     ]
    },
    {
     "name": "stderr",
     "output_type": "stream",
     "text": [
      "100%|██████████| 2073600/2073600 [00:09<00:00, 229521.76it/s]\n"
     ]
    },
    {
     "name": "stdout",
     "output_type": "stream",
     "text": [
      "24 / 35\n",
      "last dist calc:\n"
     ]
    },
    {
     "name": "stderr",
     "output_type": "stream",
     "text": [
      "100%|██████████| 2073600/2073600 [00:49<00:00, 42205.14it/s]\n"
     ]
    },
    {
     "name": "stdout",
     "output_type": "stream",
     "text": [
      "last label mark:\n"
     ]
    },
    {
     "name": "stderr",
     "output_type": "stream",
     "text": [
      "100%|██████████| 2073600/2073600 [00:10<00:00, 206932.81it/s]\n"
     ]
    },
    {
     "name": "stdout",
     "output_type": "stream",
     "text": [
      "25 / 35\n",
      "last dist calc:\n"
     ]
    },
    {
     "name": "stderr",
     "output_type": "stream",
     "text": [
      "100%|██████████| 2073600/2073600 [00:57<00:00, 36257.83it/s]\n"
     ]
    },
    {
     "name": "stdout",
     "output_type": "stream",
     "text": [
      "last label mark:\n"
     ]
    },
    {
     "name": "stderr",
     "output_type": "stream",
     "text": [
      "100%|██████████| 2073600/2073600 [00:10<00:00, 206585.25it/s]\n"
     ]
    },
    {
     "name": "stdout",
     "output_type": "stream",
     "text": [
      "26 / 35\n",
      "last dist calc:\n"
     ]
    },
    {
     "name": "stderr",
     "output_type": "stream",
     "text": [
      "100%|██████████| 2073600/2073600 [00:49<00:00, 41688.63it/s]\n"
     ]
    },
    {
     "name": "stdout",
     "output_type": "stream",
     "text": [
      "last label mark:\n"
     ]
    },
    {
     "name": "stderr",
     "output_type": "stream",
     "text": [
      "100%|██████████| 2073600/2073600 [00:09<00:00, 229105.60it/s]\n"
     ]
    },
    {
     "name": "stdout",
     "output_type": "stream",
     "text": [
      "27 / 35\n",
      "last dist calc:\n"
     ]
    },
    {
     "name": "stderr",
     "output_type": "stream",
     "text": [
      "100%|██████████| 2073600/2073600 [00:53<00:00, 38512.84it/s]\n"
     ]
    },
    {
     "name": "stdout",
     "output_type": "stream",
     "text": [
      "last label mark:\n"
     ]
    },
    {
     "name": "stderr",
     "output_type": "stream",
     "text": [
      "100%|██████████| 2073600/2073600 [00:09<00:00, 224482.22it/s]\n"
     ]
    },
    {
     "name": "stdout",
     "output_type": "stream",
     "text": [
      "28 / 35\n",
      "last dist calc:\n"
     ]
    },
    {
     "name": "stderr",
     "output_type": "stream",
     "text": [
      "100%|██████████| 2073600/2073600 [00:50<00:00, 40987.30it/s]\n"
     ]
    },
    {
     "name": "stdout",
     "output_type": "stream",
     "text": [
      "last label mark:\n"
     ]
    },
    {
     "name": "stderr",
     "output_type": "stream",
     "text": [
      "100%|██████████| 2073600/2073600 [00:08<00:00, 232640.92it/s]\n"
     ]
    },
    {
     "name": "stdout",
     "output_type": "stream",
     "text": [
      "29 / 35\n",
      "last dist calc:\n"
     ]
    },
    {
     "name": "stderr",
     "output_type": "stream",
     "text": [
      "100%|██████████| 2073600/2073600 [00:55<00:00, 37224.55it/s]\n"
     ]
    },
    {
     "name": "stdout",
     "output_type": "stream",
     "text": [
      "last label mark:\n"
     ]
    },
    {
     "name": "stderr",
     "output_type": "stream",
     "text": [
      "100%|██████████| 2073600/2073600 [00:10<00:00, 200642.69it/s]\n"
     ]
    },
    {
     "name": "stdout",
     "output_type": "stream",
     "text": [
      "30 / 35\n",
      "last dist calc:\n"
     ]
    },
    {
     "name": "stderr",
     "output_type": "stream",
     "text": [
      "100%|██████████| 2073600/2073600 [00:52<00:00, 39802.72it/s]\n"
     ]
    },
    {
     "name": "stdout",
     "output_type": "stream",
     "text": [
      "last label mark:\n"
     ]
    },
    {
     "name": "stderr",
     "output_type": "stream",
     "text": [
      "100%|██████████| 2073600/2073600 [00:09<00:00, 228085.91it/s]\n"
     ]
    },
    {
     "name": "stdout",
     "output_type": "stream",
     "text": [
      "31 / 35\n",
      "last dist calc:\n"
     ]
    },
    {
     "name": "stderr",
     "output_type": "stream",
     "text": [
      "100%|██████████| 2073600/2073600 [00:50<00:00, 40678.04it/s]\n"
     ]
    },
    {
     "name": "stdout",
     "output_type": "stream",
     "text": [
      "last label mark:\n"
     ]
    },
    {
     "name": "stderr",
     "output_type": "stream",
     "text": [
      "100%|██████████| 2073600/2073600 [00:09<00:00, 219214.83it/s]\n"
     ]
    },
    {
     "name": "stdout",
     "output_type": "stream",
     "text": [
      "32 / 35\n",
      "last dist calc:\n"
     ]
    },
    {
     "name": "stderr",
     "output_type": "stream",
     "text": [
      "100%|██████████| 2073600/2073600 [00:55<00:00, 37276.20it/s]\n"
     ]
    },
    {
     "name": "stdout",
     "output_type": "stream",
     "text": [
      "last label mark:\n"
     ]
    },
    {
     "name": "stderr",
     "output_type": "stream",
     "text": [
      "100%|██████████| 2073600/2073600 [00:09<00:00, 213165.91it/s]\n"
     ]
    },
    {
     "name": "stdout",
     "output_type": "stream",
     "text": [
      "33 / 35\n",
      "last dist calc:\n"
     ]
    },
    {
     "name": "stderr",
     "output_type": "stream",
     "text": [
      "100%|██████████| 2073600/2073600 [00:53<00:00, 38651.08it/s]\n"
     ]
    },
    {
     "name": "stdout",
     "output_type": "stream",
     "text": [
      "last label mark:\n"
     ]
    },
    {
     "name": "stderr",
     "output_type": "stream",
     "text": [
      "100%|██████████| 2073600/2073600 [00:09<00:00, 216394.40it/s]\n"
     ]
    },
    {
     "name": "stdout",
     "output_type": "stream",
     "text": [
      "34 / 35\n",
      "last dist calc:\n"
     ]
    },
    {
     "name": "stderr",
     "output_type": "stream",
     "text": [
      "100%|██████████| 2073600/2073600 [00:53<00:00, 38507.92it/s]\n"
     ]
    },
    {
     "name": "stdout",
     "output_type": "stream",
     "text": [
      "last label mark:\n"
     ]
    },
    {
     "name": "stderr",
     "output_type": "stream",
     "text": [
      "100%|██████████| 2073600/2073600 [00:10<00:00, 206468.82it/s]\n"
     ]
    },
    {
     "name": "stdout",
     "output_type": "stream",
     "text": [
      "35 / 35\n",
      "last dist calc:\n"
     ]
    },
    {
     "name": "stderr",
     "output_type": "stream",
     "text": [
      "100%|██████████| 2073600/2073600 [00:52<00:00, 39675.44it/s]\n"
     ]
    },
    {
     "name": "stdout",
     "output_type": "stream",
     "text": [
      "last label mark:\n"
     ]
    },
    {
     "name": "stderr",
     "output_type": "stream",
     "text": [
      "100%|██████████| 2073600/2073600 [00:09<00:00, 222618.49it/s]\n"
     ]
    }
   ],
   "source": [
    "\n",
    "def detect(video, n_cl=2):\n",
    "    # load video, get number of frames and get shape of frame\n",
    "    cap = cv2.VideoCapture(video)\n",
    "    fps = int(cap.get(cv2.CAP_PROP_FRAME_COUNT))\n",
    "    size = (int(cap.get(cv2.CAP_PROP_FRAME_WIDTH)),\n",
    "            int(cap.get(cv2.CAP_PROP_FRAME_HEIGHT)))\n",
    "\n",
    "    # instantiate a video writer\n",
    "    video_writer = cv2.VideoWriter(os.path.join(output_path, \"result_with_%dclz.mp4\" % n_cl),\n",
    "                                   cv2.VideoWriter_fourcc(*'mp4v'),\n",
    "                                   (fps / 10),\n",
    "                                   size,\n",
    "                                   isColor=True)\n",
    "\n",
    "    # initialize frame and seeds\n",
    "    ret, frame = cap.read()\n",
    "\n",
    "    print(\"Begin clustering with %d classes:\" % n_cl)\n",
    "    # bar = tqdm.tqdm(total=fps)  # progress bar\n",
    "    count = 0\n",
    "    while ret:\n",
    "        count += 1\n",
    "        print(count, \"/\", fps)\n",
    "\n",
    "        frame = np.float32(frame)\n",
    "        h, w, c = frame.shape\n",
    "\n",
    "        # k-means\n",
    "        data = frame.reshape((h * w, c))\n",
    "        labels = kmeans(data, n_cl=n_cl)\n",
    "\n",
    "        # give different cluster different colors\n",
    "        new_frame = np.zeros((h * w, c))\n",
    "        # TODO: dye pixels with colors\n",
    "        label_count = []\n",
    "        for i in range(n_cl):\n",
    "            label_count.append(np.count_nonzero(labels == i))\n",
    "        color_idx = np.argsort(label_count)\n",
    "        for x in range(h * w):\n",
    "            new_frame[x] = GBR[color_idx[labels[x]]]\n",
    "        new_frame = new_frame.reshape((h, w, c)).astype(\"uint8\")\n",
    "        video_writer.write(new_frame)\n",
    "\n",
    "        ret, frame = cap.read()\n",
    "        # bar.update()\n",
    "\n",
    "    # release resources\n",
    "    video_writer.release()\n",
    "    cap.release()\n",
    "    cv2.destroyAllWindows()\n",
    "\n",
    "\n",
    "video_sample = os.path.join(input_path, \"road_video.MOV\")\n",
    "detect(video_sample, n_cl=4)"
   ]
  }
 ],
 "metadata": {
  "kernelspec": {
   "display_name": "Python 3.9.12 ('baseclone')",
   "language": "python",
   "name": "python3"
  },
  "language_info": {
   "codemirror_mode": {
    "name": "ipython",
    "version": 3
   },
   "file_extension": ".py",
   "mimetype": "text/x-python",
   "name": "python",
   "nbconvert_exporter": "python",
   "pygments_lexer": "ipython3",
   "version": "3.9.12"
  },
  "orig_nbformat": 4,
  "vscode": {
   "interpreter": {
    "hash": "b4494550fd2c455d12025b7cfce3597d9eb74249dc2acea6a9c1fae47f4abe40"
   }
  }
 },
 "nbformat": 4,
 "nbformat_minor": 2
}
